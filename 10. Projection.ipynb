{
 "cells": [
  {
   "cell_type": "markdown",
   "metadata": {},
   "source": [
    "# The find() Method\n",
    "MongoDB's find() method, explained in MongoDB Query Document accepts second optional parameter that is list of fields that you want to retrieve. In MongoDB, when you execute find() method, then it displays all fields of a document. To limit this, you need to set a list of fields with value 1 or 0. 1 is used to show the field while 0 is used to hide the fields.\n",
    "\n",
    "Syntax\n",
    "\n",
    "The basic syntax of find() method with projection"
   ]
  },
  {
   "cell_type": "code",
   "execution_count": null,
   "metadata": {},
   "outputs": [],
   "source": [
    ">db.COLLECTION_NAME.find({},{KEY:1}"
   ]
  },
  {
   "cell_type": "markdown",
   "metadata": {},
   "source": [
    "Example\n",
    "Consider the collection mycol "
   ]
  },
  {
   "cell_type": "code",
   "execution_count": null,
   "metadata": {},
   "outputs": [],
   "source": [
    "{_id : ObjectId(\"507f191e810c19729de860e1\"), title: \"MongoDB Overview\"},\n",
    "{_id : ObjectId(\"507f191e810c19729de860e2\"), title: \"NoSQL Overview\"},\n",
    "{_id : ObjectId(\"507f191e810c19729de860e3\"), title: \"Tutorials Point Overview\"}"
   ]
  },
  {
   "cell_type": "markdown",
   "metadata": {},
   "source": [
    "display the title of the document while querying the document."
   ]
  },
  {
   "cell_type": "code",
   "execution_count": null,
   "metadata": {},
   "outputs": [],
   "source": [
    ">db.mycol.find({},{\"title\":1,_id:0})\n",
    "{\"title\":\"MongoDB Overview\"}\n",
    "{\"title\":\"NoSQL Overview\"}\n",
    "{\"title\":\"Tutorials Point Overview\"}\n",
    ">"
   ]
  },
  {
   "cell_type": "markdown",
   "metadata": {},
   "source": [
    "Please note _id field is always displayed while executing find() method, if you don't want this field, then you need to set it as 0."
   ]
  },
  {
   "cell_type": "code",
   "execution_count": null,
   "metadata": {},
   "outputs": [],
   "source": []
  }
 ],
 "metadata": {
  "kernelspec": {
   "display_name": "Python 3",
   "language": "python",
   "name": "python3"
  },
  "language_info": {
   "codemirror_mode": {
    "name": "ipython",
    "version": 3
   },
   "file_extension": ".py",
   "mimetype": "text/x-python",
   "name": "python",
   "nbconvert_exporter": "python",
   "pygments_lexer": "ipython3",
   "version": "3.8.3"
  }
 },
 "nbformat": 4,
 "nbformat_minor": 4
}
