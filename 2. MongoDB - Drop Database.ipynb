{
 "cells": [
  {
   "cell_type": "markdown",
   "metadata": {},
   "source": [
    "# The dropDatabase() Method\n",
    "MongoDB db.dropDatabase() command is used to drop a existing database.\n",
    "\n",
    "Syntax\n",
    "Basic syntax of dropDatabase() command is as follows −"
   ]
  },
  {
   "cell_type": "code",
   "execution_count": null,
   "metadata": {},
   "outputs": [],
   "source": [
    "db.dropDatabase()"
   ]
  },
  {
   "cell_type": "markdown",
   "metadata": {},
   "source": [
    "This will delete the selected database. If you have not selected any database, then it will delete default 'test' database.\n",
    "\n",
    "Example\n",
    "\n",
    "First, check the list of available databases by using the command, show dbs."
   ]
  },
  {
   "cell_type": "code",
   "execution_count": null,
   "metadata": {},
   "outputs": [],
   "source": [
    ">show dbs\n",
    "local      0.78125GB\n",
    "mydb       0.23012GB\n",
    "test       0.23012GB\n",
    ">"
   ]
  },
  {
   "cell_type": "markdown",
   "metadata": {},
   "source": [
    "If you want to delete new database <mydb>, then dropDatabase() command would be as follows"
   ]
  },
  {
   "cell_type": "code",
   "execution_count": null,
   "metadata": {},
   "outputs": [],
   "source": [
    ">use mydb\n",
    "switched to db mydb\n",
    ">db.dropDatabase()\n",
    ">{ \"dropped\" : \"mydb\", \"ok\" : 1 }\n",
    ">"
   ]
  },
  {
   "cell_type": "markdown",
   "metadata": {},
   "source": [
    "Now check list of databases."
   ]
  },
  {
   "cell_type": "code",
   "execution_count": null,
   "metadata": {},
   "outputs": [],
   "source": [
    ">show dbs\n",
    "local      0.78125GB\n",
    "test       0.23012GB\n",
    ">"
   ]
  },
  {
   "cell_type": "code",
   "execution_count": null,
   "metadata": {},
   "outputs": [],
   "source": []
  }
 ],
 "metadata": {
  "kernelspec": {
   "display_name": "Python 3",
   "language": "python",
   "name": "python3"
  },
  "language_info": {
   "codemirror_mode": {
    "name": "ipython",
    "version": 3
   },
   "file_extension": ".py",
   "mimetype": "text/x-python",
   "name": "python",
   "nbconvert_exporter": "python",
   "pygments_lexer": "ipython3",
   "version": "3.8.3"
  }
 },
 "nbformat": 4,
 "nbformat_minor": 4
}
