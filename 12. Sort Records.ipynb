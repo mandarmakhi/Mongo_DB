{
 "cells": [
  {
   "cell_type": "markdown",
   "metadata": {},
   "source": [
    "# The sort() Method\n",
    "To sort documents in MongoDB, you need to use sort() method. The method accepts a document containing a list of fields along with their sorting order. To specify sorting order 1 and -1 are used. 1 is used for ascending order while -1 is used for descending order.\n",
    "\n",
    "Syntax\n",
    "\n",
    "The basic syntax of sort() method"
   ]
  },
  {
   "cell_type": "code",
   "execution_count": null,
   "metadata": {},
   "outputs": [],
   "source": [
    ">db.COLLECTION_NAME.find().sort({KEY:1})"
   ]
  },
  {
   "cell_type": "markdown",
   "metadata": {},
   "source": [
    "Example\n",
    "\n",
    "Consider the collection myycol"
   ]
  },
  {
   "cell_type": "code",
   "execution_count": null,
   "metadata": {},
   "outputs": [],
   "source": [
    "{_id : ObjectId(\"507f191e810c19729de860e1\"), title: \"MongoDB Overview\"}\n",
    "{_id : ObjectId(\"507f191e810c19729de860e2\"), title: \"NoSQL Overview\"}\n",
    "{_id : ObjectId(\"507f191e810c19729de860e3\"), title: \"Tutorials Point Overview\"}"
   ]
  },
  {
   "cell_type": "markdown",
   "metadata": {},
   "source": [
    "display the documents sorted by title in the descending order."
   ]
  },
  {
   "cell_type": "code",
   "execution_count": null,
   "metadata": {},
   "outputs": [],
   "source": [
    ">db.mycol.find({},{\"title\":1,_id:0}).sort({\"title\":-1})\n",
    "{\"title\":\"Tutorials Point Overview\"}\n",
    "{\"title\":\"NoSQL Overview\"}\n",
    "{\"title\":\"MongoDB Overview\"}\n",
    ">"
   ]
  },
  {
   "cell_type": "markdown",
   "metadata": {},
   "source": [
    "Please note, if you don't specify the sorting preference, then sort() method will display the documents in ascending order."
   ]
  },
  {
   "cell_type": "code",
   "execution_count": null,
   "metadata": {},
   "outputs": [],
   "source": []
  }
 ],
 "metadata": {
  "kernelspec": {
   "display_name": "Python 3",
   "language": "python",
   "name": "python3"
  },
  "language_info": {
   "codemirror_mode": {
    "name": "ipython",
    "version": 3
   },
   "file_extension": ".py",
   "mimetype": "text/x-python",
   "name": "python",
   "nbconvert_exporter": "python",
   "pygments_lexer": "ipython3",
   "version": "3.8.3"
  }
 },
 "nbformat": 4,
 "nbformat_minor": 4
}
