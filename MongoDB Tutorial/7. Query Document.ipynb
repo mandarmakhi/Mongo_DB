{
 "cells": [
  {
   "cell_type": "markdown",
   "metadata": {},
   "source": [
    "# The find() Method\n",
    "To query data from MongoDB collection, you need to use MongoDB's find() method.\n",
    "\n",
    "Syntax\n",
    "The basic syntax of find() method"
   ]
  },
  {
   "cell_type": "code",
   "execution_count": null,
   "metadata": {},
   "outputs": [],
   "source": [
    ">db.COLLECTION_NAME.find()"
   ]
  },
  {
   "cell_type": "markdown",
   "metadata": {},
   "source": [
    "# find() method will display all the documents in a non-structured way.\n",
    "\n",
    "Example\n",
    "Assume we have created a collection named mycol as "
   ]
  },
  {
   "cell_type": "code",
   "execution_count": null,
   "metadata": {},
   "outputs": [],
   "source": [
    "> use sampleDB\n",
    "switched to db sampleDB\n",
    "> db.createCollection(\"mycol\")\n",
    "{ \"ok\" : 1 }\n",
    ">"
   ]
  },
  {
   "cell_type": "markdown",
   "metadata": {},
   "source": [
    " And inserted 3 documents in it using the insert() method "
   ]
  },
  {
   "cell_type": "code",
   "execution_count": null,
   "metadata": {},
   "outputs": [],
   "source": [
    "> db.mycol.insert([\n",
    "{\n",
    "title: \"MongoDB Overview\",\n",
    "description: \"MongoDB is no SQL database\",\n",
    "by: \"tutorials point\",\n",
    "url: \"http://www.tutorialspoint.com\",\n",
    "tags: [\"mongodb\", \"database\", \"NoSQL\"],\n",
    "likes: 100\n",
    "},\n",
    "{\n",
    "title: \"NoSQL Database\",\n",
    "description: \"NoSQL database doesn't have tables\",\n",
    "by: \"tutorials point\",\n",
    "url: \"http://www.tutorialspoint.com\",\n",
    "tags: [\"mongodb\", \"database\", \"NoSQL\"],\n",
    "likes: 20,\n",
    "comments: [\n",
    "{\n",
    "user:\"user1\",\n",
    "message: \"My first comment\",\n",
    "dateCreated: new Date(2013,11,10,2,35),\n",
    "like: 0\n",
    "}\n",
    "]\n",
    "}\n",
    "])"
   ]
  },
  {
   "cell_type": "markdown",
   "metadata": {},
   "source": [
    "# Following method retrieves all the documents in the collection "
   ]
  },
  {
   "cell_type": "code",
   "execution_count": null,
   "metadata": {},
   "outputs": [],
   "source": [
    "> db.mycol.find()\n",
    "{ \"_id\" : ObjectId(\"5dd4e2cc0821d3b44607534c\"), \"title\" : \"MongoDB Overview\", \"description\" : \"MongoDB is no SQL database\", \"by\" : \"tutorials point\", \"url\" : \"http://www.tutorialspoint.com\", \"tags\" : [ \"mongodb\", \"database\", \"NoSQL\" ], \"likes\" : 100 }\n",
    "{ \"_id\" : ObjectId(\"5dd4e2cc0821d3b44607534d\"), \"title\" : \"NoSQL Database\", \"description\" : \"NoSQL database doesn't have tables\", \"by\" : \"tutorials point\", \"url\" : \"http://www.tutorialspoint.com\", \"tags\" : [ \"mongodb\", \"database\", \"NoSQL\" ], \"likes\" : 20, \"comments\" : [ { \"user\" : \"user1\", \"message\" : \"My first comment\", \"dateCreated\" : ISODate(\"2013-12-09T21:05:00Z\"), \"like\" : 0 } ] }\n",
    ">"
   ]
  },
  {
   "cell_type": "markdown",
   "metadata": {},
   "source": [
    "The pretty() Method\n",
    "To display the results in a formatted way, you can use pretty() method.\n",
    "\n",
    "Syntax"
   ]
  },
  {
   "cell_type": "code",
   "execution_count": null,
   "metadata": {},
   "outputs": [],
   "source": [
    ">db.COLLECTION_NAME.find().pretty()"
   ]
  },
  {
   "cell_type": "markdown",
   "metadata": {},
   "source": [
    "# Example\n",
    "Following example retrieves all the documents from the collection named mycol and arranges them in an easy-to-read format."
   ]
  },
  {
   "cell_type": "code",
   "execution_count": null,
   "metadata": {},
   "outputs": [],
   "source": [
    "> db.mycol.find().pretty()\n",
    "{\n",
    "\"_id\" : ObjectId(\"5dd4e2cc0821d3b44607534c\"),\n",
    "\"title\" : \"MongoDB Overview\",\n",
    "\"description\" : \"MongoDB is no SQL database\",\n",
    "\"by\" : \"tutorials point\",\n",
    "\"url\" : \"http://www.tutorialspoint.com\",\n",
    "\"tags\" : [\n",
    "\"mongodb\",\n",
    "\"database\",\n",
    "\"NoSQL\"\n",
    "],\n",
    "\"likes\" : 100\n",
    "}\n",
    "{\n",
    "\"_id\" : ObjectId(\"5dd4e2cc0821d3b44607534d\"),\n",
    "\"title\" : \"NoSQL Database\",\n",
    "\"description\" : \"NoSQL database doesn't have tables\",\n",
    "\"by\" : \"tutorials point\",\n",
    "\"url\" : \"http://www.tutorialspoint.com\",\n",
    "\"tags\" : [\n",
    "\"mongodb\",\n",
    "\"database\",\n",
    "\"NoSQL\"\n",
    "],\n",
    "\"likes\" : 20,\n",
    "\"comments\" : [\n",
    "{\n",
    "\"user\" : \"user1\",\n",
    "\"message\" : \"My first comment\",\n",
    "\"dateCreated\" : ISODate(\"2013-12-09T21:05:00Z\"),\n",
    "\"like\" : 0\n",
    "}\n",
    "]\n",
    "}"
   ]
  },
  {
   "cell_type": "markdown",
   "metadata": {},
   "source": [
    "The findOne() method\n",
    "Apart from the find() method, there is findOne() method, that returns only one document.\n",
    "\n",
    "Syntax"
   ]
  },
  {
   "cell_type": "code",
   "execution_count": null,
   "metadata": {},
   "outputs": [],
   "source": [
    ">db.COLLECTIONNAME.findOne()"
   ]
  },
  {
   "cell_type": "markdown",
   "metadata": {},
   "source": [
    "Example\n",
    "Following example retrieves the document with title MongoDB Overview."
   ]
  },
  {
   "cell_type": "code",
   "execution_count": null,
   "metadata": {},
   "outputs": [],
   "source": [
    "> db.mycol.findOne({title: \"MongoDB Overview\"})\n",
    "{\n",
    "\"_id\" : ObjectId(\"5dd6542170fb13eec3963bf0\"),\n",
    "\"title\" : \"MongoDB Overview\",\n",
    "\"description\" : \"MongoDB is no SQL database\",\n",
    "\"by\" : \"tutorials point\",\n",
    "\"url\" : \"http://www.tutorialspoint.com\",\n",
    "\"tags\" : [\n",
    "\"mongodb\",\n",
    "\"database\",\n",
    "\"NoSQL\"\n",
    "],\n",
    "\"likes\" : 100\n",
    "}"
   ]
  },
  {
   "cell_type": "markdown",
   "metadata": {},
   "source": [
    "RDBMS Where Clause Equivalents in MongoDB\n",
    "To query the document on the basis of some condition"
   ]
  },
  {
   "attachments": {
    "Capture.PNG": {
     "image/png": "[encoded data removed]"
    }
   },
   "cell_type": "markdown",
   "metadata": {},
   "source": [
    "![Capture.PNG](attachment:Capture.PNG)\n",
    "\n",
    "## AND in MongoDB\n",
    "\n",
    "Syntax\n",
    "To query documents based on the AND condition, you need to use $and keyword. Following is the basic syntax of AND −"
   ]
  },
  {
   "cell_type": "code",
   "execution_count": null,
   "metadata": {},
   "outputs": [],
   "source": [
    ">db.mycol.find({ $and: [ {<key1>:<value1>}, { <key2>:<value2>} ] })"
   ]
  },
  {
   "cell_type": "markdown",
   "metadata": {},
   "source": [
    "Example\n",
    "Following example will show all the tutorials written by 'tutorials point' and whose title is 'MongoDB Overview'."
   ]
  },
  {
   "cell_type": "code",
   "execution_count": null,
   "metadata": {},
   "outputs": [],
   "source": [
    "> db.mycol.find({$and:[{\"by\":\"tutorials point\"},{\"title\": \"MongoDB Overview\"}]}).pretty()\n",
    "{\n",
    "\"_id\" : ObjectId(\"5dd4e2cc0821d3b44607534c\"),\n",
    "\"title\" : \"MongoDB Overview\",\n",
    "\"description\" : \"MongoDB is no SQL database\",\n",
    "\"by\" : \"tutorials point\",\n",
    "\"url\" : \"http://www.tutorialspoint.com\",\n",
    "\"tags\" : [\n",
    "\"mongodb\",\n",
    "\"database\",\n",
    "\"NoSQL\"\n",
    "],\n",
    "\"likes\" : 100\n",
    "}\n",
    ">"
   ]
  },
  {
   "cell_type": "markdown",
   "metadata": {},
   "source": [
    " For the above given example, equivalent where clause will be ' where by = 'tutorials point' AND title = 'MongoDB Overview' '. You can pass any number of key, value pairs in find clause.\n",
    "\n",
    "OR in MongoDB\n",
    "Syntax\n",
    "To query documents based on the OR condition, you need to use $or keyword. Following is the basic syntax of OR −"
   ]
  },
  {
   "cell_type": "code",
   "execution_count": null,
   "metadata": {},
   "outputs": [],
   "source": [
    ">db.mycol.find(\n",
    "   {\n",
    "      $or: [\n",
    "         {key1: value1}, {key2:value2}\n",
    "      ]\n",
    "   }\n",
    ").pretty()"
   ]
  },
  {
   "cell_type": "markdown",
   "metadata": {},
   "source": [
    "Example\n",
    "Following example will show all the tutorials written by 'tutorials point' or whose title is 'MongoDB Overview'"
   ]
  },
  {
   "cell_type": "code",
   "execution_count": null,
   "metadata": {},
   "outputs": [],
   "source": [
    ">db.mycol.find({$or:[{\"by\":\"tutorials point\"},{\"title\": \"MongoDB Overview\"}]}).pretty()\n",
    "{\n",
    "   \"_id\": ObjectId(7df78ad8902c),\n",
    "   \"title\": \"MongoDB Overview\", \n",
    "   \"description\": \"MongoDB is no sql database\",\n",
    "   \"by\": \"tutorials point\",\n",
    "   \"url\": \"http://www.tutorialspoint.com\",\n",
    "   \"tags\": [\"mongodb\", \"database\", \"NoSQL\"],\n",
    "   \"likes\": \"100\"\n",
    "}\n",
    ">"
   ]
  },
  {
   "cell_type": "markdown",
   "metadata": {},
   "source": [
    " Using AND and OR Together\n",
    "Example\n",
    "The following example will show the documents that have likes greater than 10 and whose title is either 'MongoDB Overview' or by is 'tutorials point'. Equivalent SQL where clause is 'where likes>10 AND (by = 'tutorials point' OR title = 'MongoDB Overview')'"
   ]
  },
  {
   "cell_type": "code",
   "execution_count": null,
   "metadata": {},
   "outputs": [],
   "source": [
    ">db.mycol.find({\"likes\": {$gt:10}, $or: [{\"by\": \"tutorials point\"},\n",
    "   {\"title\": \"MongoDB Overview\"}]}).pretty()\n",
    "{\n",
    "   \"_id\": ObjectId(7df78ad8902c),\n",
    "   \"title\": \"MongoDB Overview\", \n",
    "   \"description\": \"MongoDB is no sql database\",\n",
    "   \"by\": \"tutorials point\",\n",
    "   \"url\": \"http://www.tutorialspoint.com\",\n",
    "   \"tags\": [\"mongodb\", \"database\", \"NoSQL\"],\n",
    "   \"likes\": \"100\"\n",
    "}\n",
    ">"
   ]
  },
  {
   "cell_type": "markdown",
   "metadata": {},
   "source": [
    "# NOR in MongoDB\n",
    "Syntax\n",
    "To query documents based on the NOT condition, you need to use $not keyword. Following is the basic syntax of NOT −"
   ]
  },
  {
   "cell_type": "code",
   "execution_count": null,
   "metadata": {},
   "outputs": [],
   "source": [
    ">db.COLLECTION_NAME.find(\n",
    "{\n",
    "$not: [\n",
    "{key1: value1}, {key2:value2}\n",
    "]\n",
    "}\n",
    ")"
   ]
  },
  {
   "cell_type": "markdown",
   "metadata": {},
   "source": [
    " Example\n",
    "Assume we have inserted 3 documents in the collection empDetails "
   ]
  },
  {
   "cell_type": "code",
   "execution_count": null,
   "metadata": {},
   "outputs": [],
   "source": [
    "db.empDetails.insertMany(\n",
    "[\n",
    "{\n",
    "First_Name: \"Radhika\",\n",
    "Last_Name: \"Sharma\",\n",
    "Age: \"26\",\n",
    "e_mail: \"radhika_sharma.123@gmail.com\",\n",
    "phone: \"9000012345\"\n",
    "},\n",
    "{\n",
    "First_Name: \"Rachel\",\n",
    "Last_Name: \"Christopher\",\n",
    "Age: \"27\",\n",
    "e_mail: \"Rachel_Christopher.123@gmail.com\",\n",
    "phone: \"9000054321\"\n",
    "},\n",
    "{\n",
    "First_Name: \"Fathima\",\n",
    "Last_Name: \"Sheik\",\n",
    "Age: \"24\",\n",
    "e_mail: \"Fathima_Sheik.123@gmail.com\",\n",
    "phone: \"9000054321\"\n",
    "}\n",
    "]\n",
    ")"
   ]
  },
  {
   "cell_type": "markdown",
   "metadata": {},
   "source": [
    " Following example will retrieve the document(s) whose first name is not \"Radhika\" and last name is not \"Christopher\""
   ]
  },
  {
   "cell_type": "code",
   "execution_count": null,
   "metadata": {},
   "outputs": [],
   "source": [
    "> db.empDetails.find(\n",
    "{\n",
    "$nor:[\n",
    "40\n",
    "{\"First_Name\": \"Radhika\"},\n",
    "{\"Last_Name\": \"Christopher\"}\n",
    "]\n",
    "}\n",
    ").pretty()\n",
    "{\n",
    "\"_id\" : ObjectId(\"5dd631f270fb13eec3963bef\"),\n",
    "\"First_Name\" : \"Fathima\",\n",
    "\"Last_Name\" : \"Sheik\",\n",
    "\"Age\" : \"24\",\n",
    "\"e_mail\" : \"Fathima_Sheik.123@gmail.com\",\n",
    "\"phone\" : \"9000054321\"\n",
    "}"
   ]
  },
  {
   "cell_type": "markdown",
   "metadata": {},
   "source": [
    "# NOT in MongoDB\n",
    "Syntax\n",
    "To query documents based on the NOT condition, you need to use $not keyword following is the basic syntax of NOT −"
   ]
  },
  {
   "cell_type": "code",
   "execution_count": null,
   "metadata": {},
   "outputs": [],
   "source": [
    ">db.COLLECTION_NAME.find(\n",
    "{\n",
    "$NOT: [\n",
    "{key1: value1}, {key2:value2}\n",
    "]\n",
    "}\n",
    ").pretty()"
   ]
  },
  {
   "cell_type": "markdown",
   "metadata": {},
   "source": [
    "Example\n",
    "Following example will retrieve the document(s) whose age is not greater than 25"
   ]
  },
  {
   "cell_type": "code",
   "execution_count": null,
   "metadata": {},
   "outputs": [],
   "source": [
    "> db.empDetails.find( { \"Age\": { $not: { $gt: \"25\" } } } )\n",
    "{\n",
    "\"_id\" : ObjectId(\"5dd6636870fb13eec3963bf7\"),\n",
    "\"First_Name\" : \"Fathima\",\n",
    "\"Last_Name\" : \"Sheik\",\n",
    "\"Age\" : \"24\",\n",
    "\"e_mail\" : \"Fathima_Sheik.123@gmail.com\",\n",
    "\"phone\" : \"9000054321\"\n",
    "}"
   ]
  }
 ],
 "metadata": {
  "kernelspec": {
   "display_name": "Python 3",
   "language": "python",
   "name": "python3"
  },
  "language_info": {
   "codemirror_mode": {
    "name": "ipython",
    "version": 3
   },
   "file_extension": ".py",
   "mimetype": "text/x-python",
   "name": "python",
   "nbconvert_exporter": "python",
   "pygments_lexer": "ipython3",
   "version": "3.8.3"
  }
 },
 "nbformat": 4,
 "nbformat_minor": 4
}
