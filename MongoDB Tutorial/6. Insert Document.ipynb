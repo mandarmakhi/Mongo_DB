{
 "cells": [
  {
   "cell_type": "markdown",
   "metadata": {},
   "source": [
    "# The insert() Method\n",
    "To insert data into MongoDB collection, you need to use MongoDB's insert() or save() method.\n",
    "\n",
    "Syntax\n",
    "The basic syntax of insert() command is as follows −"
   ]
  },
  {
   "cell_type": "code",
   "execution_count": null,
   "metadata": {},
   "outputs": [],
   "source": [
    ">db.COLLECTION_NAME.insert(document)"
   ]
  },
  {
   "cell_type": "markdown",
   "metadata": {},
   "source": [
    "Example"
   ]
  },
  {
   "cell_type": "code",
   "execution_count": null,
   "metadata": {},
   "outputs": [],
   "source": [
    "> db.users.insert({ _id : ObjectId(\"507f191e810c19729de860ea\"), \n",
    "                   title: \"MongoDB Overview\", \n",
    "                   description: \"MongoDB is no sql database\", \n",
    "                   by: \"tutorials point\",\n",
    "                   url: \"http://www.tutorialspoint.com\",\n",
    "                   tags: ['mongodb', 'database', 'NoSQL'], \n",
    "                   likes: 100 })\n",
    "WriteResult({ \"nInserted\" : 1 })\n",
    ">"
   ]
  },
  {
   "cell_type": "markdown",
   "metadata": {},
   "source": [
    "If the collection doesn't exist in the database, then MongoDB will create this collection and then insert a document into it.\n",
    "\n",
    "In the inserted document, if we don't specify the _id parameter, then MongoDB assigns a unique ObjectId for this document.\n",
    "\n",
    "_id is 12 bytes hexadecimal number unique for every document in a collection."
   ]
  },
  {
   "cell_type": "code",
   "execution_count": null,
   "metadata": {},
   "outputs": [],
   "source": [
    "_id: ObjectId(4 bytes timestamp, 3 bytes machine id, 2 bytes process id, 3 bytes incrementer)"
   ]
  },
  {
   "cell_type": "markdown",
   "metadata": {},
   "source": [
    "You can also pass an array of documents into the insert() method as shown below"
   ]
  },
  {
   "cell_type": "code",
   "execution_count": null,
   "metadata": {},
   "outputs": [],
   "source": [
    "> db.createCollection(\"post\")\n",
    "> db.post.insert([\n",
    "{\n",
    "title: \"MongoDB Overview\",\n",
    "description: \"MongoDB is no SQL database\",\n",
    "by: \"tutorials point\",\n",
    "url: \"http://www.tutorialspoint.com\",\n",
    "tags: [\"mongodb\", \"database\", \"NoSQL\"],\n",
    "likes: 100\n",
    "},\n",
    "{\n",
    "title: \"NoSQL Database\",\n",
    "description: \"NoSQL database doesn't have tables\",\n",
    "by: \"tutorials point\",\n",
    "url: \"http://www.tutorialspoint.com\",\n",
    "tags: [\"mongodb\", \"database\", \"NoSQL\"],\n",
    "likes: 20,\n",
    "comments: [\n",
    "{\n",
    "user:\"user1\",\n",
    "message: \"My first comment\",\n",
    "dateCreated: new Date(2013,11,10,2,35),\n",
    "like: 0\n",
    "}\n",
    "]\n",
    "}\n",
    "])\n",
    "BulkWriteResult({\n",
    "\"writeErrors\" : [ ],\n",
    "\"writeConcernErrors\" : [ ],\n",
    "\"nInserted\" : 2,\n",
    "\"nUpserted\" : 0,\n",
    "\"nMatched\" : 0,\n",
    "\"nModified\" : 0,\n",
    "\"nRemoved\" : 0,\n",
    "\"upserted\" : [ ]\n",
    "})\n",
    ">"
   ]
  },
  {
   "cell_type": "markdown",
   "metadata": {},
   "source": [
    "To insert the document you can use db.post.save(document) also. If you don't specify _id in the document then save() method will work same as insert() method. If you specify _id then it will replace whole data of document containing _id as specified in save() method.\n",
    "\n",
    "The insertOne() method\n",
    "If you need to insert only one document into a collection you can use this method.\n",
    "\n",
    "Syntax\n",
    "The basic syntax of insert() command "
   ]
  },
  {
   "cell_type": "code",
   "execution_count": null,
   "metadata": {},
   "outputs": [],
   "source": [
    ">db.COLLECTION_NAME.insertOne(document)"
   ]
  },
  {
   "cell_type": "markdown",
   "metadata": {},
   "source": [
    "Example\n",
    "Following example creates a new collection named empDetails and inserts a document using the insertOne() method."
   ]
  },
  {
   "cell_type": "code",
   "execution_count": null,
   "metadata": {},
   "outputs": [],
   "source": [
    "> db.createCollection(\"empDetails\")\n",
    "{ \"ok\" : 1 }"
   ]
  },
  {
   "cell_type": "code",
   "execution_count": null,
   "metadata": {},
   "outputs": [],
   "source": [
    "> db.empDetails.insertOne(\n",
    "{\n",
    "First_Name: \"Radhika\",\n",
    "Last_Name: \"Sharma\",\n",
    "Date_Of_Birth: \"1995-09-26\",\n",
    "e_mail: \"radhika_sharma.123@gmail.com\",\n",
    "phone: \"9848022338\"\n",
    "})\n",
    "{\n",
    "\"acknowledged\" : true,\n",
    "\"insertedId\" : ObjectId(\"5dd62b4070fb13eec3963bea\")\n",
    "}\n",
    ">"
   ]
  },
  {
   "cell_type": "markdown",
   "metadata": {},
   "source": [
    "The insertMany() method\n",
    "You can insert multiple documents using the insertMany() method. To this method you need to pass an array of documents.\n",
    "\n",
    "Example\n",
    "Following example inserts three different documents into the empDetails collection using the insertMany() method."
   ]
  },
  {
   "cell_type": "code",
   "execution_count": null,
   "metadata": {},
   "outputs": [],
   "source": [
    "> db.empDetails.insertMany(\n",
    "\t[\n",
    "\t\t{\n",
    "\t\t\tFirst_Name: \"Radhika\",\n",
    "\t\t\tLast_Name: \"Sharma\",\n",
    "\t\t\tDate_Of_Birth: \"1995-09-26\",\n",
    "\t\t\te_mail: \"radhika_sharma.123@gmail.com\",\n",
    "\t\t\tphone: \"9000012345\"\n",
    "\t\t},\n",
    "\t\t{\n",
    "\t\t\tFirst_Name: \"Rachel\",\n",
    "\t\t\tLast_Name: \"Christopher\",\n",
    "\t\t\tDate_Of_Birth: \"1990-02-16\",\n",
    "\t\t\te_mail: \"Rachel_Christopher.123@gmail.com\",\n",
    "\t\t\tphone: \"9000054321\"\n",
    "\t\t},\n",
    "\t\t{\n",
    "\t\t\tFirst_Name: \"Fathima\",\n",
    "\t\t\tLast_Name: \"Sheik\",\n",
    "\t\t\tDate_Of_Birth: \"1990-02-16\",\n",
    "\t\t\te_mail: \"Fathima_Sheik.123@gmail.com\",\n",
    "\t\t\tphone: \"9000054321\"\n",
    "\t\t}\n",
    "\t]\n",
    ")\n",
    "{\n",
    "\t\"acknowledged\" : true,\n",
    "\t\"insertedIds\" : [\n",
    "\t\tObjectId(\"5dd631f270fb13eec3963bed\"),\n",
    "\t\tObjectId(\"5dd631f270fb13eec3963bee\"),\n",
    "\t\tObjectId(\"5dd631f270fb13eec3963bef\")\n",
    "\t]\n",
    "}\n",
    ">"
   ]
  },
  {
   "cell_type": "code",
   "execution_count": null,
   "metadata": {},
   "outputs": [],
   "source": []
  }
 ],
 "metadata": {
  "kernelspec": {
   "display_name": "Python 3",
   "language": "python",
   "name": "python3"
  },
  "language_info": {
   "codemirror_mode": {
    "name": "ipython",
    "version": 3
   },
   "file_extension": ".py",
   "mimetype": "text/x-python",
   "name": "python",
   "nbconvert_exporter": "python",
   "pygments_lexer": "ipython3",
   "version": "3.8.3"
  }
 },
 "nbformat": 4,
 "nbformat_minor": 4
}
