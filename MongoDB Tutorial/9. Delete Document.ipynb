{
 "cells": [
  {
   "cell_type": "markdown",
   "metadata": {},
   "source": [
    "# The remove() Method\n",
    "MongoDB's remove() method is used to remove a document from the collection. remove() method accepts two parameters. One is deletion criteria and second is justOne flag.\n",
    "\n",
    "deletion criteria − (Optional) deletion criteria according to documents will be removed.\n",
    "\n",
    "justOne − (Optional) if set to true or 1, then remove only one document.\n",
    "\n",
    "Syntax\n",
    "Basic syntax of remove() method "
   ]
  },
  {
   "cell_type": "code",
   "execution_count": null,
   "metadata": {},
   "outputs": [],
   "source": [
    ">db.COLLECTION_NAME.remove(DELLETION_CRITTERIA)"
   ]
  },
  {
   "cell_type": "markdown",
   "metadata": {},
   "source": [
    "Example\n",
    "Consider the mycol collection has the following data"
   ]
  },
  {
   "cell_type": "code",
   "execution_count": null,
   "metadata": {},
   "outputs": [],
   "source": [
    "{_id : ObjectId(\"507f191e810c19729de860e1\"), title: \"MongoDB Overview\"},\n",
    "{_id : ObjectId(\"507f191e810c19729de860e2\"), title: \"NoSQL Overview\"},\n",
    "{_id : ObjectId(\"507f191e810c19729de860e3\"), title: \"Tutorials Point Overview\"}"
   ]
  },
  {
   "cell_type": "markdown",
   "metadata": {},
   "source": [
    "remove all the documents whose title is 'MongoDB Overview'."
   ]
  },
  {
   "cell_type": "code",
   "execution_count": null,
   "metadata": {},
   "outputs": [],
   "source": [
    ">db.mycol.remove({'title':'MongoDB Overview'})\n",
    "WriteResult({\"nRemoved\" : 1})\n",
    "> db.mycol.find()\n",
    "{\"_id\" : ObjectId(\"507f191e810c19729de860e2\"), \"title\" : \"NoSQL Overview\" }\n",
    "{\"_id\" : ObjectId(\"507f191e810c19729de860e3\"), \"title\" : \"Tutorials Point Overview\" }"
   ]
  },
  {
   "cell_type": "markdown",
   "metadata": {},
   "source": [
    "Remove Only One\n",
    "\n",
    "\n",
    "If there are multiple records and you want to delete only the first record, then set justOne parameter in remove() method."
   ]
  },
  {
   "cell_type": "code",
   "execution_count": null,
   "metadata": {},
   "outputs": [],
   "source": [
    ">db.COLLECTION_NAME.remove(DELETION_CRITERIA,1)"
   ]
  },
  {
   "cell_type": "markdown",
   "metadata": {},
   "source": [
    "Remove All Documents\n",
    "\n",
    "If you don't specify deletion criteria, then MongoDB will delete whole documents from the collection. This is equivalent of SQL's truncate command."
   ]
  },
  {
   "cell_type": "code",
   "execution_count": null,
   "metadata": {},
   "outputs": [],
   "source": [
    "> db.mycol.remove({})\n",
    "WriteResult({ \"nRemoved\" : 2 })\n",
    "> db.mycol.find()\n",
    ">"
   ]
  }
 ],
 "metadata": {
  "kernelspec": {
   "display_name": "Python 3",
   "language": "python",
   "name": "python3"
  },
  "language_info": {
   "codemirror_mode": {
    "name": "ipython",
    "version": 3
   },
   "file_extension": ".py",
   "mimetype": "text/x-python",
   "name": "python",
   "nbconvert_exporter": "python",
   "pygments_lexer": "ipython3",
   "version": "3.8.3"
  }
 },
 "nbformat": 4,
 "nbformat_minor": 4
}
