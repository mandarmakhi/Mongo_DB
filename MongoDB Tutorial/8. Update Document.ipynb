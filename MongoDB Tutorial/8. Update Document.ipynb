{
 "cells": [
  {
   "cell_type": "markdown",
   "metadata": {},
   "source": [
    "# MongoDB - Update Document\n"
   ]
  },
  {
   "cell_type": "markdown",
   "metadata": {},
   "source": [
    "## MongoDB Update() Method\n",
    "The update() method updates the values in the existing document.\n",
    "\n",
    "Syntax\n",
    "The basic syntax of update() method "
   ]
  },
  {
   "cell_type": "code",
   "execution_count": null,
   "metadata": {},
   "outputs": [],
   "source": [
    ">db.COLLECTION_NAME.update(SELECTION_CRITERIA, UPDATED_DATA)"
   ]
  },
  {
   "cell_type": "markdown",
   "metadata": {},
   "source": [
    " Example\n",
    "Consider the mycol collection"
   ]
  },
  {
   "cell_type": "code",
   "execution_count": null,
   "metadata": {},
   "outputs": [],
   "source": [
    "{ \"_id\" : ObjectId(5983548781331adf45ec5), \"title\":\"MongoDB Overview\"}\n",
    "{ \"_id\" : ObjectId(5983548781331adf45ec6), \"title\":\"NoSQL Overview\"}\n",
    "{ \"_id\" : ObjectId(5983548781331adf45ec7), \"title\":\"Tutorials Point Overview\"}"
   ]
  },
  {
   "cell_type": "markdown",
   "metadata": {},
   "source": [
    "Following example will set the new title 'New MongoDB Tutorial' of the documents whose title is 'MongoDB Overview'."
   ]
  },
  {
   "cell_type": "code",
   "execution_count": null,
   "metadata": {},
   "outputs": [],
   "source": [
    ">db.mycol.update({'title':'MongoDB Overview'},{$set:{'title':'New MongoDB Tutorial'}})\n",
    "WriteResult({ \"nMatched\" : 1, \"nUpserted\" : 0, \"nModified\" : 1 })\n",
    ">db.mycol.find()\n",
    "{ \"_id\" : ObjectId(5983548781331adf45ec5), \"title\":\"New MongoDB Tutorial\"}\n",
    "{ \"_id\" : ObjectId(5983548781331adf45ec6), \"title\":\"NoSQL Overview\"}\n",
    "{ \"_id\" : ObjectId(5983548781331adf45ec7), \"title\":\"Tutorials Point Overview\"}\n",
    ">"
   ]
  },
  {
   "cell_type": "markdown",
   "metadata": {},
   "source": [
    "By default, MongoDB will update only a single document. To update multiple documents, you need to set a parameter 'multi' to true."
   ]
  },
  {
   "cell_type": "code",
   "execution_count": null,
   "metadata": {},
   "outputs": [],
   "source": [
    ">db.mycol.update({'title':'MongoDB Overview'},\n",
    "   {$set:{'title':'New MongoDB Tutorial'}},{multi:true})"
   ]
  },
  {
   "cell_type": "markdown",
   "metadata": {},
   "source": [
    "MongoDB Save() Method\n",
    "The save() method replaces the existing document with the new document passed in the save() method.\n",
    "\n",
    "Syntax\n",
    "The basic syntax of MongoDB save() method "
   ]
  },
  {
   "cell_type": "code",
   "execution_count": null,
   "metadata": {},
   "outputs": [],
   "source": [
    ">db.COLLECTION_NAME.save({_id:ObjectId(),NEW_DATA})"
   ]
  },
  {
   "cell_type": "markdown",
   "metadata": {},
   "source": [
    "Example\n",
    "Following example will replace the document with the _id '5983548781331adf45ec5'."
   ]
  },
  {
   "cell_type": "code",
   "execution_count": null,
   "metadata": {},
   "outputs": [],
   "source": [
    ">db.mycol.save(\n",
    "   {\n",
    "      \"_id\" : ObjectId(\"507f191e810c19729de860ea\"), \n",
    "\"title\":\"Tutorials Point New Topic\",\n",
    "      \"by\":\"Tutorials Point\"\n",
    "   }\n",
    ")\n",
    "WriteResult({\n",
    "\"nMatched\" : 0,\n",
    "\"nUpserted\" : 1,\n",
    "\"nModified\" : 0,\n",
    "\"_id\" : ObjectId(\"507f191e810c19729de860ea\")\n",
    "})\n",
    ">db.mycol.find()\n",
    "{ \"_id\" : ObjectId(\"507f191e810c19729de860e6\"), \"title\":\"Tutorials Point New Topic\",\n",
    "   \"by\":\"Tutorials Point\"}\n",
    "{ \"_id\" : ObjectId(\"507f191e810c19729de860e6\"), \"title\":\"NoSQL Overview\"}\n",
    "{ \"_id\" : ObjectId(\"507f191e810c19729de860e6\"), \"title\":\"Tutorials Point Overview\"}\n",
    ">"
   ]
  },
  {
   "cell_type": "markdown",
   "metadata": {},
   "source": [
    "MongoDB findOneAndUpdate() method\n",
    "The findOneAndUpdate() method updates the values in the existing document.\n",
    "\n",
    "Syntax\n",
    "The basic syntax of findOneAndUpdate() "
   ]
  },
  {
   "cell_type": "code",
   "execution_count": null,
   "metadata": {},
   "outputs": [],
   "source": [
    ">db.COLLECTION_NAME.findOneAndUpdate(SELECTIOIN_CRITERIA, UPDATED_DATA)"
   ]
  },
  {
   "cell_type": "markdown",
   "metadata": {},
   "source": [
    "Example\n",
    "Assume we have created a collection named empDetails and inserted three documents in it as shown below −"
   ]
  },
  {
   "cell_type": "code",
   "execution_count": null,
   "metadata": {},
   "outputs": [],
   "source": [
    "> db.empDetails.insertMany(\n",
    "[\n",
    "{\n",
    "First_Name: \"Radhika\",\n",
    "Last_Name: \"Sharma\",\n",
    "Age: \"26\",\n",
    "e_mail: \"radhika_sharma.123@gmail.com\",\n",
    "phone: \"9000012345\"\n",
    "},\n",
    "{\n",
    "First_Name: \"Rachel\",\n",
    "Last_Name: \"Christopher\",\n",
    "Age: \"27\",\n",
    "e_mail: \"Rachel_Christopher.123@gmail.com\",\n",
    "phone: \"9000054321\"\n",
    "},\n",
    "{\n",
    "First_Name: \"Fathima\",\n",
    "Last_Name: \"Sheik\",\n",
    "Age: \"24\",\n",
    "e_mail: \"Fathima_Sheik.123@gmail.com\",\n",
    "phone: \"9000054321\"\n",
    "}\n",
    "]\n",
    ")"
   ]
  },
  {
   "cell_type": "markdown",
   "metadata": {},
   "source": [
    "updates the age and email values of the document with name 'Radhika'."
   ]
  },
  {
   "cell_type": "code",
   "execution_count": null,
   "metadata": {},
   "outputs": [],
   "source": [
    "> db.empDetails.findOneAndUpdate(\n",
    "{First_Name: 'Radhika'},\n",
    "{ $set: { Age: '30',e_mail: 'radhika_newemail@gmail.com'}}\n",
    ")\n",
    "{\n",
    "\"_id\" : ObjectId(\"5dd6636870fb13eec3963bf5\"),\n",
    "\"First_Name\" : \"Radhika\",\n",
    "\"Last_Name\" : \"Sharma\",\n",
    "\"Age\" : \"30\",\n",
    "\"e_mail\" : \"radhika_newemail@gmail.com\",\n",
    "\"phone\" : \"9000012345\"\n",
    "}"
   ]
  },
  {
   "cell_type": "markdown",
   "metadata": {},
   "source": [
    "MongoDB updateOne() method\n",
    "This methods updates a single document which matches the given filter.\n",
    "\n",
    "Syntax\n",
    "The basic syntax of updateOne()"
   ]
  },
  {
   "cell_type": "code",
   "execution_count": null,
   "metadata": {},
   "outputs": [],
   "source": [
    ">db.COLLECTION_NAME.updateOne(<filter>, <update>)"
   ]
  },
  {
   "cell_type": "code",
   "execution_count": null,
   "metadata": {},
   "outputs": [],
   "source": [
    "> db.empDetails.updateOne(First_Name: 'Radhika'},{ $set: { Age: '30',e_mail: 'radhika_newemail@gmail.com'}}\n",
    ")\n",
    "{ \"acknowledged\" : true, \"matchedCount\" : 1, \"modifiedCount\" : 0 }\n",
    ">"
   ]
  },
  {
   "cell_type": "markdown",
   "metadata": {},
   "source": [
    " MongoDB updateMany() method\n",
    "The updateMany() method updates all the documents that matches the given filter.\n",
    "\n",
    "Syntax\n",
    "The basic syntax of updateMany() "
   ]
  },
  {
   "cell_type": "code",
   "execution_count": null,
   "metadata": {},
   "outputs": [],
   "source": [
    ">db.COLLECTION_NAME.update(<filter>, <update>)"
   ]
  },
  {
   "cell_type": "code",
   "execution_count": null,
   "metadata": {},
   "outputs": [],
   "source": [
    "> db.empDetails.updateMany(\n",
    "{Age:{ $gt: \"25\" }},\n",
    "{ $set: { Age: '00'}}\n",
    ")\n",
    "{ \"acknowledged\" : true, \"matchedCount\" : 2, \"modifiedCount\" : 2 }"
   ]
  },
  {
   "cell_type": "markdown",
   "metadata": {},
   "source": [
    "You can see the updated values if you retrieve the contents of the document using the find method"
   ]
  },
  {
   "cell_type": "code",
   "execution_count": null,
   "metadata": {},
   "outputs": [],
   "source": [
    "> db.empDetails.find()\n",
    "{ \"_id\" : ObjectId(\"5dd6636870fb13eec3963bf5\"), \"First_Name\" : \"Radhika\", \"Last_Name\" : \"Sharma\", \"Age\" : \"00\", \"e_mail\" : \"radhika_newemail@gmail.com\", \"phone\" : \"9000012345\" }\n",
    "{ \"_id\" : ObjectId(\"5dd6636870fb13eec3963bf6\"), \"First_Name\" : \"Rachel\", \"Last_Name\" : \"Christopher\", \"Age\" : \"00\", \"e_mail\" : \"Rachel_Christopher.123@gmail.com\", \"phone\" : \"9000054321\" }\n",
    "{ \"_id\" : ObjectId(\"5dd6636870fb13eec3963bf7\"), \"First_Name\" : \"Fathima\", \"Last_Name\" : \"Sheik\", \"Age\" : \"24\", \"e_mail\" : \"Fathima_Sheik.123@gmail.com\", \"phone\" : \"9000054321\" }\n",
    ">"
   ]
  },
  {
   "cell_type": "code",
   "execution_count": null,
   "metadata": {},
   "outputs": [],
   "source": []
  }
 ],
 "metadata": {
  "kernelspec": {
   "display_name": "Python 3",
   "language": "python",
   "name": "python3"
  },
  "language_info": {
   "codemirror_mode": {
    "name": "ipython",
    "version": 3
   },
   "file_extension": ".py",
   "mimetype": "text/x-python",
   "name": "python",
   "nbconvert_exporter": "python",
   "pygments_lexer": "ipython3",
   "version": "3.8.3"
  }
 },
 "nbformat": 4,
 "nbformat_minor": 4
}
