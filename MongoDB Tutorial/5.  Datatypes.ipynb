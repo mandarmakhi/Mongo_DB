{
 "cells": [
  {
   "cell_type": "markdown",
   "metadata": {},
   "source": [
    "# MongoDB supports many datatypes. Some of them are −\n",
    "\n",
    "## String − This is the most commonly used datatype to store the data. String in MongoDB must be UTF-8 valid.\n",
    "\n",
    "## Integer − This type is used to store a numerical value. Integer can be 32 bit or 64 bit depending upon your server.\n",
    "\n",
    "## Boolean − This type is used to store a boolean (true/ false) value.\n",
    "\n",
    "## Double − This type is used to store floating point values.\n",
    "\n",
    "## Min/ Max keys − This type is used to compare a value against the lowest and highest BSON elements.\n",
    "\n",
    "## Arrays − This type is used to store arrays or list or multiple values into one key.\n",
    "\n",
    "## Timestamp − ctimestamp. This can be handy for recording when a document has been modified or added.\n",
    "\n",
    "## Object − This datatype is used for embedded documents.\n",
    "\n",
    "## Null − This type is used to store a Null value.\n",
    "\n",
    "## Symbol − This datatype is used identically to a string; however, it's generally reserved for languages that use a specific symbol type.\n",
    "\n",
    "## Date − This datatype is used to store the current date or time in UNIX time format. You can specify your own date time by creating object of Date and passing day, month, year into it.\n",
    "\n",
    "## Object ID − This datatype is used to store the document’s ID.\n",
    "\n",
    "## Binary data − This datatype is used to store binary data.\n",
    "\n",
    "## Code − This datatype is used to store JavaScript code into the document.\n",
    "\n",
    "## Regular expression − This datatype is used to store regular expression."
   ]
  },
  {
   "cell_type": "code",
   "execution_count": null,
   "metadata": {},
   "outputs": [],
   "source": []
  }
 ],
 "metadata": {
  "kernelspec": {
   "display_name": "Python 3",
   "language": "python",
   "name": "python3"
  },
  "language_info": {
   "codemirror_mode": {
    "name": "ipython",
    "version": 3
   },
   "file_extension": ".py",
   "mimetype": "text/x-python",
   "name": "python",
   "nbconvert_exporter": "python",
   "pygments_lexer": "ipython3",
   "version": "3.8.3"
  }
 },
 "nbformat": 4,
 "nbformat_minor": 4
}
