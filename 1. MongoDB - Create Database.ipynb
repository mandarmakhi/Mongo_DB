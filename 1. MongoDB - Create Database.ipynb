{
 "cells": [
  {
   "cell_type": "markdown",
   "metadata": {},
   "source": [
    "# The use Command\n",
    "MongoDB use DATABASE_NAME is used to create database. The command will create a new database if it doesn't exist, otherwise it will return the existing database.\n",
    "\n",
    "Syntax\n",
    "Basic syntax of use DATABASE statement is as follows −"
   ]
  },
  {
   "cell_type": "code",
   "execution_count": null,
   "metadata": {},
   "outputs": [],
   "source": [
    "use DATABASE_NAME"
   ]
  },
  {
   "cell_type": "markdown",
   "metadata": {},
   "source": [
    "# Example\n",
    "If you want to use a database with name <mydb>, then use DATABASE statement would be as follows −"
   ]
  },
  {
   "cell_type": "code",
   "execution_count": null,
   "metadata": {},
   "outputs": [],
   "source": [
    ">use mydb\n",
    "switched to db mydb"
   ]
  },
  {
   "cell_type": "markdown",
   "metadata": {},
   "source": [
    " To check your currently selected database, use the command db"
   ]
  },
  {
   "cell_type": "code",
   "execution_count": null,
   "metadata": {},
   "outputs": [],
   "source": [
    ">db\n",
    "mydb"
   ]
  },
  {
   "cell_type": "markdown",
   "metadata": {},
   "source": [
    "If you want to check your databases list, use the command show dbs."
   ]
  },
  {
   "cell_type": "code",
   "execution_count": null,
   "metadata": {},
   "outputs": [],
   "source": [
    ">show dbs\n",
    "local     0.78125GB\n",
    "test      0.23012GB"
   ]
  },
  {
   "cell_type": "markdown",
   "metadata": {},
   "source": [
    " Your created database (mydb) is not present in list. To display database, you need to insert at least one document into it."
   ]
  },
  {
   "cell_type": "code",
   "execution_count": null,
   "metadata": {},
   "outputs": [],
   "source": [
    ">db.movie.insert({\"name\":\"tutorials point\"})\n",
    ">show dbs\n",
    "local      0.78125GB\n",
    "mydb       0.23012GB\n",
    "test       0.23012GB"
   ]
  },
  {
   "cell_type": "markdown",
   "metadata": {},
   "source": [
    "In MongoDB default database is test. If you didn't create any database, then collections will be stored in test database."
   ]
  },
  {
   "cell_type": "code",
   "execution_count": null,
   "metadata": {},
   "outputs": [],
   "source": []
  }
 ],
 "metadata": {
  "kernelspec": {
   "display_name": "Python 3",
   "language": "python",
   "name": "python3"
  },
  "language_info": {
   "codemirror_mode": {
    "name": "ipython",
    "version": 3
   },
   "file_extension": ".py",
   "mimetype": "text/x-python",
   "name": "python",
   "nbconvert_exporter": "python",
   "pygments_lexer": "ipython3",
   "version": "3.8.3"
  }
 },
 "nbformat": 4,
 "nbformat_minor": 4
}
