{
 "cells": [
  {
   "cell_type": "markdown",
   "metadata": {},
   "source": [
    "# The Limit() Method\n",
    "To limit the records in MongoDB, you need to use limit() method. The method accepts one number type argument, which is the number of documents that you want to be displayed.\n",
    "\n",
    "Syntax\n",
    "\n",
    "The basic syntax of limit() method is as follows −"
   ]
  },
  {
   "cell_type": "code",
   "execution_count": null,
   "metadata": {},
   "outputs": [],
   "source": [
    ">db.COLLECTION_NAME.find().limit(NUMBER)"
   ]
  },
  {
   "cell_type": "markdown",
   "metadata": {},
   "source": [
    "Example\n",
    "\n",
    "Consider the collection myycol"
   ]
  },
  {
   "cell_type": "code",
   "execution_count": null,
   "metadata": {},
   "outputs": [],
   "source": [
    "{_id : ObjectId(\"507f191e810c19729de860e1\"), title: \"MongoDB Overview\"},\n",
    "{_id : ObjectId(\"507f191e810c19729de860e2\"), title: \"NoSQL Overview\"},\n",
    "{_id : ObjectId(\"507f191e810c19729de860e3\"), title: \"Tutorials Point Overview\"}"
   ]
  },
  {
   "cell_type": "markdown",
   "metadata": {},
   "source": [
    " display only two documents while querying the document."
   ]
  },
  {
   "cell_type": "markdown",
   "metadata": {},
   "source": [
    "If you don't specify the number argument in limit() method then it will display all documents from the collection.\n",
    "\n",
    "MongoDB Skip() Method\n",
    "\n",
    "Apart from limit() method, there is one more method skip() which also accepts number type argument and is used to skip the number of documents.\n",
    "\n",
    "Syntax\n",
    "\n",
    "The basic syntax of skip() method"
   ]
  },
  {
   "cell_type": "code",
   "execution_count": null,
   "metadata": {},
   "outputs": [],
   "source": [
    ">db.COLLECTION_NAME.find().limit(NUMBER).skip(NUMBER)"
   ]
  },
  {
   "cell_type": "code",
   "execution_count": null,
   "metadata": {},
   "outputs": [],
   "source": [
    ">db.mycol.find({},{\"title\":1,_id:0}).limit(1).skip(1)\n",
    "{\"title\":\"NoSQL Overview\"}\n",
    ">"
   ]
  },
  {
   "cell_type": "markdown",
   "metadata": {},
   "source": [
    "Please note, the default value in skip() method is 0."
   ]
  },
  {
   "cell_type": "code",
   "execution_count": null,
   "metadata": {},
   "outputs": [],
   "source": []
  }
 ],
 "metadata": {
  "kernelspec": {
   "display_name": "Python 3",
   "language": "python",
   "name": "python3"
  },
  "language_info": {
   "codemirror_mode": {
    "name": "ipython",
    "version": 3
   },
   "file_extension": ".py",
   "mimetype": "text/x-python",
   "name": "python",
   "nbconvert_exporter": "python",
   "pygments_lexer": "ipython3",
   "version": "3.8.3"
  }
 },
 "nbformat": 4,
 "nbformat_minor": 4
}
